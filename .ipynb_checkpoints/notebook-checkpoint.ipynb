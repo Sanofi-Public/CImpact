{
 "cells": [
  {
   "cell_type": "code",
   "execution_count": 1,
   "metadata": {},
   "outputs": [],
   "source": [
    "import src.turing_causal_impact.queries_sales as queries_sales\n",
    "import src.turing_causal_impact.causal_inference as causal_inference\n",
    "# import causal_inference\n",
    "\n",
    "import importlib\n",
    "import pandas as pd\n",
    "import seaborn as sns\n",
    "import os\n",
    "import datetime as dt\n",
    "import numpy as np\n",
    "import json"
   ]
  },
  {
   "cell_type": "code",
   "execution_count": 2,
   "metadata": {},
   "outputs": [],
   "source": [
    "scenarios_files = ['./scenarios/genmed/US/us_multaq_3-1.json']"
   ]
  },
  {
   "cell_type": "code",
   "execution_count": 3,
   "metadata": {},
   "outputs": [
    {
     "ename": "FileNotFoundError",
     "evalue": "[Errno 2] No such file or directory: './scenarios/us_multaq_3-1.json'",
     "output_type": "error",
     "traceback": [
      "\u001b[0;31m---------------------------------------------------------------------------\u001b[0m",
      "\u001b[0;31mFileNotFoundError\u001b[0m                         Traceback (most recent call last)",
      "Cell \u001b[0;32mIn[3], line 7\u001b[0m\n\u001b[1;32m      2\u001b[0m \u001b[38;5;66;03m# with open(\"scenarios/us_multaq.json\") as f:\u001b[39;00m\n\u001b[1;32m      3\u001b[0m \u001b[38;5;66;03m#     scenarios.append(json.loads(f.read()))\u001b[39;00m\n\u001b[1;32m      4\u001b[0m \u001b[38;5;66;03m# with open(\"scenarios/us_multaq_2.json\") as f:\u001b[39;00m\n\u001b[1;32m      5\u001b[0m \u001b[38;5;66;03m#     scenarios.append(json.loads(f.read()))\u001b[39;00m\n\u001b[1;32m      6\u001b[0m \u001b[38;5;28;01mfor\u001b[39;00m s_file \u001b[38;5;129;01min\u001b[39;00m scenarios_files:\n\u001b[0;32m----> 7\u001b[0m     \u001b[38;5;28;01mwith\u001b[39;00m \u001b[38;5;28;43mopen\u001b[39;49m\u001b[43m(\u001b[49m\u001b[43ms_file\u001b[49m\u001b[43m)\u001b[49m \u001b[38;5;28;01mas\u001b[39;00m f:\n\u001b[1;32m      8\u001b[0m         scenarios\u001b[38;5;241m.\u001b[39mappend(json\u001b[38;5;241m.\u001b[39mloads(f\u001b[38;5;241m.\u001b[39mread()))\n",
      "File \u001b[0;32m~/Documents/analyses/oneai-com-turing-causal_inference/.env/lib/python3.11/site-packages/IPython/core/interactiveshell.py:324\u001b[0m, in \u001b[0;36m_modified_open\u001b[0;34m(file, *args, **kwargs)\u001b[0m\n\u001b[1;32m    317\u001b[0m \u001b[38;5;28;01mif\u001b[39;00m file \u001b[38;5;129;01min\u001b[39;00m {\u001b[38;5;241m0\u001b[39m, \u001b[38;5;241m1\u001b[39m, \u001b[38;5;241m2\u001b[39m}:\n\u001b[1;32m    318\u001b[0m     \u001b[38;5;28;01mraise\u001b[39;00m \u001b[38;5;167;01mValueError\u001b[39;00m(\n\u001b[1;32m    319\u001b[0m         \u001b[38;5;124mf\u001b[39m\u001b[38;5;124m\"\u001b[39m\u001b[38;5;124mIPython won\u001b[39m\u001b[38;5;124m'\u001b[39m\u001b[38;5;124mt let you open fd=\u001b[39m\u001b[38;5;132;01m{\u001b[39;00mfile\u001b[38;5;132;01m}\u001b[39;00m\u001b[38;5;124m by default \u001b[39m\u001b[38;5;124m\"\u001b[39m\n\u001b[1;32m    320\u001b[0m         \u001b[38;5;124m\"\u001b[39m\u001b[38;5;124mas it is likely to crash IPython. If you know what you are doing, \u001b[39m\u001b[38;5;124m\"\u001b[39m\n\u001b[1;32m    321\u001b[0m         \u001b[38;5;124m\"\u001b[39m\u001b[38;5;124myou can use builtins\u001b[39m\u001b[38;5;124m'\u001b[39m\u001b[38;5;124m open.\u001b[39m\u001b[38;5;124m\"\u001b[39m\n\u001b[1;32m    322\u001b[0m     )\n\u001b[0;32m--> 324\u001b[0m \u001b[38;5;28;01mreturn\u001b[39;00m \u001b[43mio_open\u001b[49m\u001b[43m(\u001b[49m\u001b[43mfile\u001b[49m\u001b[43m,\u001b[49m\u001b[43m \u001b[49m\u001b[38;5;241;43m*\u001b[39;49m\u001b[43margs\u001b[49m\u001b[43m,\u001b[49m\u001b[43m \u001b[49m\u001b[38;5;241;43m*\u001b[39;49m\u001b[38;5;241;43m*\u001b[39;49m\u001b[43mkwargs\u001b[49m\u001b[43m)\u001b[49m\n",
      "\u001b[0;31mFileNotFoundError\u001b[0m: [Errno 2] No such file or directory: './scenarios/us_multaq_3-1.json'"
     ]
    }
   ],
   "source": [
    "\n",
    "scenarios = []\n",
    "# with open(\"scenarios/us_multaq.json\") as f:\n",
    "#     scenarios.append(json.loads(f.read()))\n",
    "# with open(\"scenarios/us_multaq_2.json\") as f:\n",
    "#     scenarios.append(json.loads(f.read()))\n",
    "for s_file in scenarios_files:\n",
    "    with open(s_file) as f:\n",
    "        scenarios.append(json.loads(f.read()))"
   ]
  },
  {
   "cell_type": "code",
   "execution_count": null,
   "metadata": {},
   "outputs": [
    {
     "data": {
      "text/plain": [
       "[{'name': 'us-multaq3',\n",
       "  'country': 'US',\n",
       "  'brands': ['MULTAQ', 'SOTALOL'],\n",
       "  'target_brand': 'MULTAQ',\n",
       "  'metric': 'SUM(QUANTITY_SOLD)',\n",
       "  'cutover': '2023-09-01',\n",
       "  'min_date': '2023-01-01',\n",
       "  'frequency': 'weekly'},\n",
       " {'name': 'us-multaq3',\n",
       "  'country': 'US',\n",
       "  'brands': ['MULTAQ', 'SOTALOL'],\n",
       "  'target_brand': 'MULTAQ',\n",
       "  'metric': 'SUM(QUANTITY_SOLD)',\n",
       "  'cutover': '2023-09-01',\n",
       "  'min_date': '2023-01-01',\n",
       "  'frequency': 'weekly'}]"
      ]
     },
     "execution_count": 10,
     "metadata": {},
     "output_type": "execute_result"
    }
   ],
   "source": [
    "scenarios"
   ]
  },
  {
   "cell_type": "markdown",
   "metadata": {},
   "source": [
    "# Get data"
   ]
  },
  {
   "cell_type": "code",
   "execution_count": null,
   "metadata": {},
   "outputs": [],
   "source": [
    "queries_sales = importlib.reload(queries_sales)"
   ]
  },
  {
   "cell_type": "code",
   "execution_count": null,
   "metadata": {},
   "outputs": [
    {
     "name": "stdout",
     "output_type": "stream",
     "text": [
      "amer True emea False\n",
      "Initiating login request with your identity provider. A browser window should have opened for you to complete the login. If you can't see it, check existing browser windows, or your OS settings. Press CTRL+C to abort and try again...\n",
      "Going to open: https://login.microsoftonline.com/aca3c8d6-aa71-4e1a-a10e-03572fc58c0b/saml2?SAMLRequest=lZJdb9owFIb%2FSuRdJ3HCZy2gYmVtoYxGBSatN5PrnICFY2c%2BTtPu18%2BEInUXrbQ7f7zv8XP8ntHlS6mCZ7AojR6TJKIkAC1MLvVuTLab63BIAnRc51wZDWPyCkguJyPkparYtHZ7%2FQC%2Fa0AX%2BEIaWXsxJrXVzHCUyDQvAZkTbD39vmRpRFlljTPCKPLO8rmDI4J1nvBsyVF6vL1zFYvjpmmiphMZu4tTSmlML2KvOkq%2BnPUvvqcP9ElMu0e9V3h59sb2VerTF3yG9XQSIbvdbLIwu19vSDA9o14ZjXUJdg32WQrYPixPAOgJkGtTyNAXtL%2BEKcsItWkKxQ%2Fgd1XtfNHIr%2BIC8liZnfR9z2djUh1k%2FvN%2BoRdr2lne3fBFf0v%2F3GTAq2%2FDw0qqznaRZ%2FVqe1sd9rvHgyDBj3Ow6THYOWINc32M0%2FkjmnZDmobpYJOkrJewbje6SPuPJJj5OKXmrnWemVuOqJTCGjSFM1pJDS0lF7wjhnk%2F5HyQhF1IeMgTCiHt9AZpIXpDQZ%2FiY8gpOQ0Oa0Hs5D%2B%2FYxS%2FN7%2BN4Mq75rPMKCleg2tjS%2B4%2BDi2JkvZE5mHRShmUXKppnltA9OEpZZorC9z5SXe2BhJPTq%2F%2BO%2BuTvw%3D%3D&RelayState=59856 to authenticate...\n",
      "['MULTAQ', 'SOTALOL']\n",
      "Query for MULTAQ\n",
      "Query for SOTALOL\n"
     ]
    }
   ],
   "source": [
    "# queries_sales.get_all_sales_data([{'country':'BRAZIL', 'brands':['%PURAN%']}, {'country':'US', 'brands':['%PURAN%']}], '2024-01-01')\n",
    "queries_sales.get_all_sales_data(scenarios, '2024-01-01')"
   ]
  },
  {
   "cell_type": "markdown",
   "metadata": {},
   "source": [
    "# Causal impact\n"
   ]
  },
  {
   "cell_type": "markdown",
   "metadata": {},
   "source": [
    "## installation if need be"
   ]
  },
  {
   "cell_type": "code",
   "execution_count": null,
   "metadata": {},
   "outputs": [],
   "source": [
    "causal_inference = importlib.reload(causal_inference)"
   ]
  },
  {
   "cell_type": "code",
   "execution_count": 4,
   "metadata": {},
   "outputs": [],
   "source": [
    "for scenario in scenarios:\n",
    "    print(f\"Scenario: {scenario['name']}\")\n",
    "    print(\"###############################\")\n",
    "    print()\n",
    "\n",
    "    #load data\n",
    "    df = pd.read_parquet(f\"data/{scenario['name']}.parquet\")\n",
    "    # {'fit_method': 'hmc'}\n",
    "    impact = causal_inference.provide_analyse(scenario, df, model_args={'fit_method': 'hmc'})\n",
    "    \n",
    "    impact.plot()\n",
    "    print(impact.summary())"
   ]
  },
  {
   "cell_type": "code",
   "execution_count": null,
   "metadata": {},
   "outputs": [],
   "source": [
    "print(impact.summary('report'))"
   ]
  },
  {
   "cell_type": "code",
   "execution_count": null,
   "metadata": {},
   "outputs": [],
   "source": []
  }
 ],
 "metadata": {
  "kernelspec": {
   "display_name": "Python 3",
   "language": "python",
   "name": "python3"
  },
  "language_info": {
   "codemirror_mode": {
    "name": "ipython",
    "version": 3
   },
   "file_extension": ".py",
   "mimetype": "text/x-python",
   "name": "python",
   "nbconvert_exporter": "python",
   "pygments_lexer": "ipython3",
   "version": "3.11.5"
  }
 },
 "nbformat": 4,
 "nbformat_minor": 2
}
